{
 "cells": [
  {
   "cell_type": "code",
   "execution_count": 4,
   "metadata": {},
   "outputs": [],
   "source": [
    "PATH_data_source = \"../data/source/\"\n",
    "PATH_data_output = \"../data/output/\"\n",
    "PATH_model = \"../model/\"\n",
    "PATH_server_output = '../serverOutput/'"
   ]
  },
  {
   "cell_type": "markdown",
   "metadata": {},
   "source": [
    "- load one file, and get the data to a shape of 4 features as columns, and attributions as rows\n",
    "- load all files and append the data together"
   ]
  },
  {
   "cell_type": "code",
   "execution_count": 2,
   "metadata": {},
   "outputs": [
    {
     "name": "stderr",
     "output_type": "stream",
     "text": [
      "/var/folders/2n/gsjzgwk96b36cv6xgz746htr0000gn/T/ipykernel_2159/3340899641.py:3: DeprecationWarning: \n",
      "Pyarrow will become a required dependency of pandas in the next major release of pandas (pandas 3.0),\n",
      "(to allow more performant data types, such as the Arrow string type, and better interoperability with other libraries)\n",
      "but was not found to be installed on your system.\n",
      "If this would cause problems for you,\n",
      "please provide us feedback at https://github.com/pandas-dev/pandas/issues/54466\n",
      "        \n",
      "  import pandas as pd\n"
     ]
    }
   ],
   "source": [
    "# import shap\n",
    "import pickle\n",
    "import pandas as pd"
   ]
  },
  {
   "cell_type": "markdown",
   "metadata": {},
   "source": []
  },
  {
   "cell_type": "code",
   "execution_count": null,
   "metadata": {},
   "outputs": [],
   "source": []
  },
  {
   "cell_type": "code",
   "execution_count": 14,
   "metadata": {},
   "outputs": [
    {
     "data": {
      "text/html": [
       "<div>\n",
       "<style scoped>\n",
       "    .dataframe tbody tr th:only-of-type {\n",
       "        vertical-align: middle;\n",
       "    }\n",
       "\n",
       "    .dataframe tbody tr th {\n",
       "        vertical-align: top;\n",
       "    }\n",
       "\n",
       "    .dataframe thead th {\n",
       "        text-align: right;\n",
       "    }\n",
       "</style>\n",
       "<table border=\"1\" class=\"dataframe\">\n",
       "  <thead>\n",
       "    <tr style=\"text-align: right;\">\n",
       "      <th></th>\n",
       "      <th>GRE Score</th>\n",
       "      <th>TOEFL Score</th>\n",
       "      <th>University Rating</th>\n",
       "      <th>Research</th>\n",
       "    </tr>\n",
       "  </thead>\n",
       "  <tbody>\n",
       "    <tr>\n",
       "      <th>0</th>\n",
       "      <td>0.086869</td>\n",
       "      <td>-0.092615</td>\n",
       "      <td>-0.069006</td>\n",
       "      <td>0.176591</td>\n",
       "    </tr>\n",
       "    <tr>\n",
       "      <th>1</th>\n",
       "      <td>0.139235</td>\n",
       "      <td>0.075045</td>\n",
       "      <td>0.138575</td>\n",
       "      <td>0.194598</td>\n",
       "    </tr>\n",
       "    <tr>\n",
       "      <th>2</th>\n",
       "      <td>0.156021</td>\n",
       "      <td>0.100204</td>\n",
       "      <td>0.139068</td>\n",
       "      <td>0.195326</td>\n",
       "    </tr>\n",
       "    <tr>\n",
       "      <th>3</th>\n",
       "      <td>-0.236483</td>\n",
       "      <td>0.001285</td>\n",
       "      <td>-0.069212</td>\n",
       "      <td>0.182235</td>\n",
       "    </tr>\n",
       "    <tr>\n",
       "      <th>4</th>\n",
       "      <td>-0.156134</td>\n",
       "      <td>-0.144098</td>\n",
       "      <td>-0.071046</td>\n",
       "      <td>0.183880</td>\n",
       "    </tr>\n",
       "  </tbody>\n",
       "</table>\n",
       "</div>"
      ],
      "text/plain": [
       "   GRE Score  TOEFL Score  University Rating  Research\n",
       "0   0.086869    -0.092615          -0.069006  0.176591\n",
       "1   0.139235     0.075045           0.138575  0.194598\n",
       "2   0.156021     0.100204           0.139068  0.195326\n",
       "3  -0.236483     0.001285          -0.069212  0.182235\n",
       "4  -0.156134    -0.144098          -0.071046  0.183880"
      ]
     },
     "execution_count": 14,
     "metadata": {},
     "output_type": "execute_result"
    }
   ],
   "source": [
    "with open(PATH_data_output + 'admission_swap_0.6_10_15.pickle', 'rb') as f:\n",
    "    shap_values = pickle.load(f)\n",
    "\n",
    "def create_one_feature_attr_table(shap_values):\n",
    "    d = pd.DataFrame(shap_values.values)\n",
    "    d.columns = shap_values.feature_names\n",
    "    return d\n",
    "\n",
    "create_one_feature_attr_table(shap_values)"
   ]
  },
  {
   "cell_type": "code",
   "execution_count": 31,
   "metadata": {},
   "outputs": [],
   "source": [
    "\n",
    "def meanAbsAttr_per_parameter(file_names):\n",
    "    df = pd.DataFrame()\n",
    "    for file_name in file_names:\n",
    "        with open(PATH_data_output + file_name, 'rb') as f:\n",
    "            shap_values = pickle.load(f)\n",
    "        d = create_one_feature_attr_table(shap_values)\n",
    "        df = pd.concat([df, d], axis=0, ignore_index=True)\n",
    "        df = df.abs()\n",
    "        out = pd.DataFrame(df.mean(axis=0))\n",
    "        # out['feature'] = out.index\n",
    "        out = out.reset_index()\n",
    "        out.columns = ['feature', 'meanAbsAttri']\n",
    "\n",
    "    return out\n",
    "\n",
    "\n",
    "def merge_meanAbsAttr_all_parameters(parameter_file_lists):\n",
    "    df = pd.DataFrame()\n",
    "    for key in parameter_file_lists.keys():\n",
    "        d = meanAbsAttr_per_parameter(parameter_file_lists[key])\n",
    "        d['parameter'] = key\n",
    "        df = pd.concat([df, d], axis=0, ignore_index=True)\n",
    "    \n",
    "    return df"
   ]
  },
  {
   "cell_type": "code",
   "execution_count": 35,
   "metadata": {},
   "outputs": [
    {
     "data": {
      "text/html": [
       "<div>\n",
       "<style scoped>\n",
       "    .dataframe tbody tr th:only-of-type {\n",
       "        vertical-align: middle;\n",
       "    }\n",
       "\n",
       "    .dataframe tbody tr th {\n",
       "        vertical-align: top;\n",
       "    }\n",
       "\n",
       "    .dataframe thead th {\n",
       "        text-align: right;\n",
       "    }\n",
       "</style>\n",
       "<table border=\"1\" class=\"dataframe\">\n",
       "  <thead>\n",
       "    <tr style=\"text-align: right;\">\n",
       "      <th></th>\n",
       "      <th>feature</th>\n",
       "      <th>meanAbsAttri</th>\n",
       "      <th>parameter</th>\n",
       "      <th>explainer</th>\n",
       "      <th>attack</th>\n",
       "    </tr>\n",
       "  </thead>\n",
       "  <tbody>\n",
       "    <tr>\n",
       "      <th>0</th>\n",
       "      <td>GRE Score</td>\n",
       "      <td>0.215788</td>\n",
       "      <td>0.0</td>\n",
       "      <td>SHAP</td>\n",
       "      <td>swap</td>\n",
       "    </tr>\n",
       "    <tr>\n",
       "      <th>1</th>\n",
       "      <td>TOEFL Score</td>\n",
       "      <td>0.201487</td>\n",
       "      <td>0.0</td>\n",
       "      <td>SHAP</td>\n",
       "      <td>swap</td>\n",
       "    </tr>\n",
       "    <tr>\n",
       "      <th>2</th>\n",
       "      <td>University Rating</td>\n",
       "      <td>0.242538</td>\n",
       "      <td>0.0</td>\n",
       "      <td>SHAP</td>\n",
       "      <td>swap</td>\n",
       "    </tr>\n",
       "    <tr>\n",
       "      <th>3</th>\n",
       "      <td>Research</td>\n",
       "      <td>0.003890</td>\n",
       "      <td>0.0</td>\n",
       "      <td>SHAP</td>\n",
       "      <td>swap</td>\n",
       "    </tr>\n",
       "    <tr>\n",
       "      <th>4</th>\n",
       "      <td>GRE Score</td>\n",
       "      <td>0.203097</td>\n",
       "      <td>0.2</td>\n",
       "      <td>SHAP</td>\n",
       "      <td>swap</td>\n",
       "    </tr>\n",
       "    <tr>\n",
       "      <th>5</th>\n",
       "      <td>TOEFL Score</td>\n",
       "      <td>0.188799</td>\n",
       "      <td>0.2</td>\n",
       "      <td>SHAP</td>\n",
       "      <td>swap</td>\n",
       "    </tr>\n",
       "    <tr>\n",
       "      <th>6</th>\n",
       "      <td>University Rating</td>\n",
       "      <td>0.227947</td>\n",
       "      <td>0.2</td>\n",
       "      <td>SHAP</td>\n",
       "      <td>swap</td>\n",
       "    </tr>\n",
       "    <tr>\n",
       "      <th>7</th>\n",
       "      <td>Research</td>\n",
       "      <td>0.098476</td>\n",
       "      <td>0.2</td>\n",
       "      <td>SHAP</td>\n",
       "      <td>swap</td>\n",
       "    </tr>\n",
       "    <tr>\n",
       "      <th>8</th>\n",
       "      <td>GRE Score</td>\n",
       "      <td>0.185524</td>\n",
       "      <td>0.4</td>\n",
       "      <td>SHAP</td>\n",
       "      <td>swap</td>\n",
       "    </tr>\n",
       "    <tr>\n",
       "      <th>9</th>\n",
       "      <td>TOEFL Score</td>\n",
       "      <td>0.173097</td>\n",
       "      <td>0.4</td>\n",
       "      <td>SHAP</td>\n",
       "      <td>swap</td>\n",
       "    </tr>\n",
       "    <tr>\n",
       "      <th>10</th>\n",
       "      <td>University Rating</td>\n",
       "      <td>0.204397</td>\n",
       "      <td>0.4</td>\n",
       "      <td>SHAP</td>\n",
       "      <td>swap</td>\n",
       "    </tr>\n",
       "    <tr>\n",
       "      <th>11</th>\n",
       "      <td>Research</td>\n",
       "      <td>0.189626</td>\n",
       "      <td>0.4</td>\n",
       "      <td>SHAP</td>\n",
       "      <td>swap</td>\n",
       "    </tr>\n",
       "    <tr>\n",
       "      <th>12</th>\n",
       "      <td>GRE Score</td>\n",
       "      <td>0.163301</td>\n",
       "      <td>0.6</td>\n",
       "      <td>SHAP</td>\n",
       "      <td>swap</td>\n",
       "    </tr>\n",
       "    <tr>\n",
       "      <th>13</th>\n",
       "      <td>TOEFL Score</td>\n",
       "      <td>0.152520</td>\n",
       "      <td>0.6</td>\n",
       "      <td>SHAP</td>\n",
       "      <td>swap</td>\n",
       "    </tr>\n",
       "    <tr>\n",
       "      <th>14</th>\n",
       "      <td>University Rating</td>\n",
       "      <td>0.182134</td>\n",
       "      <td>0.6</td>\n",
       "      <td>SHAP</td>\n",
       "      <td>swap</td>\n",
       "    </tr>\n",
       "    <tr>\n",
       "      <th>15</th>\n",
       "      <td>Research</td>\n",
       "      <td>0.266693</td>\n",
       "      <td>0.6</td>\n",
       "      <td>SHAP</td>\n",
       "      <td>swap</td>\n",
       "    </tr>\n",
       "  </tbody>\n",
       "</table>\n",
       "</div>"
      ],
      "text/plain": [
       "              feature  meanAbsAttri  parameter explainer attack\n",
       "0           GRE Score      0.215788        0.0      SHAP   swap\n",
       "1         TOEFL Score      0.201487        0.0      SHAP   swap\n",
       "2   University Rating      0.242538        0.0      SHAP   swap\n",
       "3            Research      0.003890        0.0      SHAP   swap\n",
       "4           GRE Score      0.203097        0.2      SHAP   swap\n",
       "5         TOEFL Score      0.188799        0.2      SHAP   swap\n",
       "6   University Rating      0.227947        0.2      SHAP   swap\n",
       "7            Research      0.098476        0.2      SHAP   swap\n",
       "8           GRE Score      0.185524        0.4      SHAP   swap\n",
       "9         TOEFL Score      0.173097        0.4      SHAP   swap\n",
       "10  University Rating      0.204397        0.4      SHAP   swap\n",
       "11           Research      0.189626        0.4      SHAP   swap\n",
       "12          GRE Score      0.163301        0.6      SHAP   swap\n",
       "13        TOEFL Score      0.152520        0.6      SHAP   swap\n",
       "14  University Rating      0.182134        0.6      SHAP   swap\n",
       "15           Research      0.266693        0.6      SHAP   swap"
      ]
     },
     "execution_count": 35,
     "metadata": {},
     "output_type": "execute_result"
    }
   ],
   "source": [
    "file_names_swap_02 = [\n",
    "'admission_swap_0.2_0_5.pickle',\n",
    "'admission_swap_0.2_5_10.pickle',\n",
    "'admission_swap_0.2_10_15.pickle',\n",
    "'admission_swap_0.2_15_20.pickle',\n",
    "'admission_swap_0.2_20_25.pickle',\n",
    "'admission_swap_0.2_25_30.pickle',\n",
    "'admission_swap_0.2_30_35.pickle',\n",
    "'admission_swap_0.2_35_40.pickle',\n",
    "'admission_swap_0.2_40_45.pickle',\n",
    "'admission_swap_0.2_45_50.pickle',\n",
    "'admission_swap_0.2_50_55.pickle',\n",
    "'admission_swap_0.2_55_60.pickle',\n",
    "'admission_swap_0.2_60_65.pickle',\n",
    "'admission_swap_0.2_65_70.pickle',\n",
    "'admission_swap_0.2_70_75.pickle',\n",
    "'admission_swap_0.2_75_80.pickle',\n",
    "'admission_swap_0.2_80_85.pickle',\n",
    "'admission_swap_0.2_85_90.pickle',\n",
    "'admission_swap_0.2_90_95.pickle',\n",
    "'admission_swap_0.2_95_100.pickle',\n",
    "]\n",
    "\n",
    "file_names_swap_04 = [\n",
    "'admission_swap_0.4_0_5.pickle',\n",
    "'admission_swap_0.4_5_10.pickle',\n",
    "'admission_swap_0.4_10_15.pickle',\n",
    "'admission_swap_0.4_15_20.pickle',\n",
    "'admission_swap_0.4_20_25.pickle',\n",
    "'admission_swap_0.4_25_30.pickle',\n",
    "'admission_swap_0.4_30_35.pickle',\n",
    "'admission_swap_0.4_35_40.pickle',\n",
    "'admission_swap_0.4_40_45.pickle',\n",
    "'admission_swap_0.4_45_50.pickle',\n",
    "'admission_swap_0.4_50_55.pickle',\n",
    "'admission_swap_0.4_55_60.pickle',\n",
    "'admission_swap_0.4_60_65.pickle',\n",
    "'admission_swap_0.4_65_70.pickle',\n",
    "'admission_swap_0.4_70_75.pickle',\n",
    "'admission_swap_0.4_75_80.pickle',\n",
    "'admission_swap_0.4_80_85.pickle',\n",
    "'admission_swap_0.4_85_90.pickle',\n",
    "'admission_swap_0.4_90_95.pickle',\n",
    "'admission_swap_0.4_95_100.pickle',\n",
    "]\n",
    "\n",
    "\n",
    "file_names_swap_06 = [\n",
    "'admission_swap_0.6_0_5.pickle',\n",
    "'admission_swap_0.6_5_10.pickle',\n",
    "'admission_swap_0.6_10_15.pickle',\n",
    "'admission_swap_0.6_15_20.pickle',\n",
    "'admission_swap_0.6_20_25.pickle',\n",
    "'admission_swap_0.6_25_30.pickle',\n",
    "'admission_swap_0.6_30_35.pickle',\n",
    "'admission_swap_0.6_35_40.pickle',\n",
    "'admission_swap_0.6_40_45.pickle',\n",
    "'admission_swap_0.6_45_50.pickle',\n",
    "'admission_swap_0.6_50_55.pickle',\n",
    "'admission_swap_0.6_55_60.pickle',\n",
    "'admission_swap_0.6_60_65.pickle',\n",
    "'admission_swap_0.6_65_70.pickle',\n",
    "'admission_swap_0.6_70_75.pickle',\n",
    "'admission_swap_0.6_75_80.pickle',\n",
    "'admission_swap_0.6_80_85.pickle',\n",
    "'admission_swap_0.6_85_90.pickle',\n",
    "'admission_swap_0.6_90_95.pickle',\n",
    "'admission_swap_0.6_95_100.pickle',\n",
    "]\n",
    "\n",
    "file_names_swap_00 = [\n",
    "'admission_swap_0.0.pickle',\n",
    "]\n",
    "\n",
    "\n",
    "\n",
    "parameter_file_lists = {\n",
    "0: file_names_swap_00,\n",
    "0.2: file_names_swap_02,\n",
    "0.4: file_names_swap_04,\n",
    "0.6: file_names_swap_06,\n",
    "}\n",
    "\n",
    "\n",
    "\n",
    "\n",
    "df_admission_swap_shap = merge_meanAbsAttr_all_parameters(parameter_file_lists)\n",
    "df_admission_swap_shap['explainer'] = 'SHAP'\n",
    "df_admission_swap_shap['attack'] = 'swap'\n",
    "df_admission_swap_shap"
   ]
  },
  {
   "cell_type": "code",
   "execution_count": 36,
   "metadata": {},
   "outputs": [
    {
     "data": {
      "text/html": [
       "<div>\n",
       "<style scoped>\n",
       "    .dataframe tbody tr th:only-of-type {\n",
       "        vertical-align: middle;\n",
       "    }\n",
       "\n",
       "    .dataframe tbody tr th {\n",
       "        vertical-align: top;\n",
       "    }\n",
       "\n",
       "    .dataframe thead th {\n",
       "        text-align: right;\n",
       "    }\n",
       "</style>\n",
       "<table border=\"1\" class=\"dataframe\">\n",
       "  <thead>\n",
       "    <tr style=\"text-align: right;\">\n",
       "      <th></th>\n",
       "      <th>feature</th>\n",
       "      <th>meanAbsAttri</th>\n",
       "      <th>parameter</th>\n",
       "      <th>explainer</th>\n",
       "      <th>attack</th>\n",
       "    </tr>\n",
       "  </thead>\n",
       "  <tbody>\n",
       "    <tr>\n",
       "      <th>0</th>\n",
       "      <td>GRE Score</td>\n",
       "      <td>0.208071</td>\n",
       "      <td>0.5</td>\n",
       "      <td>SHAP</td>\n",
       "      <td>mix</td>\n",
       "    </tr>\n",
       "    <tr>\n",
       "      <th>1</th>\n",
       "      <td>TOEFL Score</td>\n",
       "      <td>0.193979</td>\n",
       "      <td>0.5</td>\n",
       "      <td>SHAP</td>\n",
       "      <td>mix</td>\n",
       "    </tr>\n",
       "    <tr>\n",
       "      <th>2</th>\n",
       "      <td>University Rating</td>\n",
       "      <td>0.237541</td>\n",
       "      <td>0.5</td>\n",
       "      <td>SHAP</td>\n",
       "      <td>mix</td>\n",
       "    </tr>\n",
       "    <tr>\n",
       "      <th>3</th>\n",
       "      <td>Research</td>\n",
       "      <td>0.059461</td>\n",
       "      <td>0.5</td>\n",
       "      <td>SHAP</td>\n",
       "      <td>mix</td>\n",
       "    </tr>\n",
       "    <tr>\n",
       "      <th>4</th>\n",
       "      <td>GRE Score</td>\n",
       "      <td>0.200765</td>\n",
       "      <td>0.6</td>\n",
       "      <td>SHAP</td>\n",
       "      <td>mix</td>\n",
       "    </tr>\n",
       "    <tr>\n",
       "      <th>5</th>\n",
       "      <td>TOEFL Score</td>\n",
       "      <td>0.188062</td>\n",
       "      <td>0.6</td>\n",
       "      <td>SHAP</td>\n",
       "      <td>mix</td>\n",
       "    </tr>\n",
       "    <tr>\n",
       "      <th>6</th>\n",
       "      <td>University Rating</td>\n",
       "      <td>0.231228</td>\n",
       "      <td>0.6</td>\n",
       "      <td>SHAP</td>\n",
       "      <td>mix</td>\n",
       "    </tr>\n",
       "    <tr>\n",
       "      <th>7</th>\n",
       "      <td>Research</td>\n",
       "      <td>0.088956</td>\n",
       "      <td>0.6</td>\n",
       "      <td>SHAP</td>\n",
       "      <td>mix</td>\n",
       "    </tr>\n",
       "    <tr>\n",
       "      <th>8</th>\n",
       "      <td>GRE Score</td>\n",
       "      <td>0.188433</td>\n",
       "      <td>0.7</td>\n",
       "      <td>SHAP</td>\n",
       "      <td>mix</td>\n",
       "    </tr>\n",
       "    <tr>\n",
       "      <th>9</th>\n",
       "      <td>TOEFL Score</td>\n",
       "      <td>0.176708</td>\n",
       "      <td>0.7</td>\n",
       "      <td>SHAP</td>\n",
       "      <td>mix</td>\n",
       "    </tr>\n",
       "    <tr>\n",
       "      <th>10</th>\n",
       "      <td>University Rating</td>\n",
       "      <td>0.218472</td>\n",
       "      <td>0.7</td>\n",
       "      <td>SHAP</td>\n",
       "      <td>mix</td>\n",
       "    </tr>\n",
       "    <tr>\n",
       "      <th>11</th>\n",
       "      <td>Research</td>\n",
       "      <td>0.141297</td>\n",
       "      <td>0.7</td>\n",
       "      <td>SHAP</td>\n",
       "      <td>mix</td>\n",
       "    </tr>\n",
       "    <tr>\n",
       "      <th>12</th>\n",
       "      <td>GRE Score</td>\n",
       "      <td>0.175892</td>\n",
       "      <td>0.8</td>\n",
       "      <td>SHAP</td>\n",
       "      <td>mix</td>\n",
       "    </tr>\n",
       "    <tr>\n",
       "      <th>13</th>\n",
       "      <td>TOEFL Score</td>\n",
       "      <td>0.165636</td>\n",
       "      <td>0.8</td>\n",
       "      <td>SHAP</td>\n",
       "      <td>mix</td>\n",
       "    </tr>\n",
       "    <tr>\n",
       "      <th>14</th>\n",
       "      <td>University Rating</td>\n",
       "      <td>0.203403</td>\n",
       "      <td>0.8</td>\n",
       "      <td>SHAP</td>\n",
       "      <td>mix</td>\n",
       "    </tr>\n",
       "    <tr>\n",
       "      <th>15</th>\n",
       "      <td>Research</td>\n",
       "      <td>0.192018</td>\n",
       "      <td>0.8</td>\n",
       "      <td>SHAP</td>\n",
       "      <td>mix</td>\n",
       "    </tr>\n",
       "  </tbody>\n",
       "</table>\n",
       "</div>"
      ],
      "text/plain": [
       "              feature  meanAbsAttri  parameter explainer attack\n",
       "0           GRE Score      0.208071        0.5      SHAP    mix\n",
       "1         TOEFL Score      0.193979        0.5      SHAP    mix\n",
       "2   University Rating      0.237541        0.5      SHAP    mix\n",
       "3            Research      0.059461        0.5      SHAP    mix\n",
       "4           GRE Score      0.200765        0.6      SHAP    mix\n",
       "5         TOEFL Score      0.188062        0.6      SHAP    mix\n",
       "6   University Rating      0.231228        0.6      SHAP    mix\n",
       "7            Research      0.088956        0.6      SHAP    mix\n",
       "8           GRE Score      0.188433        0.7      SHAP    mix\n",
       "9         TOEFL Score      0.176708        0.7      SHAP    mix\n",
       "10  University Rating      0.218472        0.7      SHAP    mix\n",
       "11           Research      0.141297        0.7      SHAP    mix\n",
       "12          GRE Score      0.175892        0.8      SHAP    mix\n",
       "13        TOEFL Score      0.165636        0.8      SHAP    mix\n",
       "14  University Rating      0.203403        0.8      SHAP    mix\n",
       "15           Research      0.192018        0.8      SHAP    mix"
      ]
     },
     "execution_count": 36,
     "metadata": {},
     "output_type": "execute_result"
    }
   ],
   "source": [
    "file_names_mix_05 = ['admission_mix_0.5.pickle']\n",
    "file_names_mix_06 = ['admission_mix_0.6.pickle']\n",
    "file_names_mix_07 = ['admission_mix_0.7.pickle']\n",
    "file_names_mix_08 = ['admission_mix_0.8.pickle']\n",
    "# file_names_mix_ = ['admission_mix_0.9.pickle']\n",
    "# file_names_mix_ = ['admission_mix_1.0.pickle']\n",
    "\n",
    "\n",
    "parameter_file_lists = {\n",
    "0.5: file_names_mix_05,\n",
    "0.6: file_names_mix_06,\n",
    "0.7: file_names_mix_07,\n",
    "0.8: file_names_mix_08,\n",
    "}\n",
    "\n",
    "\n",
    "\n",
    "\n",
    "df_admission_mix_shap = merge_meanAbsAttr_all_parameters(parameter_file_lists)\n",
    "df_admission_mix_shap['explainer'] = 'SHAP'\n",
    "df_admission_mix_shap['attack'] = 'mix'\n",
    "df_admission_mix_shap"
   ]
  },
  {
   "cell_type": "code",
   "execution_count": 37,
   "metadata": {},
   "outputs": [
    {
     "data": {
      "text/html": [
       "<div>\n",
       "<style scoped>\n",
       "    .dataframe tbody tr th:only-of-type {\n",
       "        vertical-align: middle;\n",
       "    }\n",
       "\n",
       "    .dataframe tbody tr th {\n",
       "        vertical-align: top;\n",
       "    }\n",
       "\n",
       "    .dataframe thead th {\n",
       "        text-align: right;\n",
       "    }\n",
       "</style>\n",
       "<table border=\"1\" class=\"dataframe\">\n",
       "  <thead>\n",
       "    <tr style=\"text-align: right;\">\n",
       "      <th></th>\n",
       "      <th>feature</th>\n",
       "      <th>meanAbsAttri</th>\n",
       "      <th>parameter</th>\n",
       "      <th>explainer</th>\n",
       "      <th>attack</th>\n",
       "    </tr>\n",
       "  </thead>\n",
       "  <tbody>\n",
       "    <tr>\n",
       "      <th>0</th>\n",
       "      <td>GRE Score</td>\n",
       "      <td>0.208071</td>\n",
       "      <td>0.5</td>\n",
       "      <td>SHAP</td>\n",
       "      <td>mix</td>\n",
       "    </tr>\n",
       "    <tr>\n",
       "      <th>1</th>\n",
       "      <td>TOEFL Score</td>\n",
       "      <td>0.193979</td>\n",
       "      <td>0.5</td>\n",
       "      <td>SHAP</td>\n",
       "      <td>mix</td>\n",
       "    </tr>\n",
       "    <tr>\n",
       "      <th>2</th>\n",
       "      <td>University Rating</td>\n",
       "      <td>0.237541</td>\n",
       "      <td>0.5</td>\n",
       "      <td>SHAP</td>\n",
       "      <td>mix</td>\n",
       "    </tr>\n",
       "    <tr>\n",
       "      <th>3</th>\n",
       "      <td>Research</td>\n",
       "      <td>0.059461</td>\n",
       "      <td>0.5</td>\n",
       "      <td>SHAP</td>\n",
       "      <td>mix</td>\n",
       "    </tr>\n",
       "    <tr>\n",
       "      <th>4</th>\n",
       "      <td>GRE Score</td>\n",
       "      <td>0.200765</td>\n",
       "      <td>0.6</td>\n",
       "      <td>SHAP</td>\n",
       "      <td>mix</td>\n",
       "    </tr>\n",
       "    <tr>\n",
       "      <th>5</th>\n",
       "      <td>TOEFL Score</td>\n",
       "      <td>0.188062</td>\n",
       "      <td>0.6</td>\n",
       "      <td>SHAP</td>\n",
       "      <td>mix</td>\n",
       "    </tr>\n",
       "    <tr>\n",
       "      <th>6</th>\n",
       "      <td>University Rating</td>\n",
       "      <td>0.231228</td>\n",
       "      <td>0.6</td>\n",
       "      <td>SHAP</td>\n",
       "      <td>mix</td>\n",
       "    </tr>\n",
       "    <tr>\n",
       "      <th>7</th>\n",
       "      <td>Research</td>\n",
       "      <td>0.088956</td>\n",
       "      <td>0.6</td>\n",
       "      <td>SHAP</td>\n",
       "      <td>mix</td>\n",
       "    </tr>\n",
       "    <tr>\n",
       "      <th>8</th>\n",
       "      <td>GRE Score</td>\n",
       "      <td>0.188433</td>\n",
       "      <td>0.7</td>\n",
       "      <td>SHAP</td>\n",
       "      <td>mix</td>\n",
       "    </tr>\n",
       "    <tr>\n",
       "      <th>9</th>\n",
       "      <td>TOEFL Score</td>\n",
       "      <td>0.176708</td>\n",
       "      <td>0.7</td>\n",
       "      <td>SHAP</td>\n",
       "      <td>mix</td>\n",
       "    </tr>\n",
       "    <tr>\n",
       "      <th>10</th>\n",
       "      <td>University Rating</td>\n",
       "      <td>0.218472</td>\n",
       "      <td>0.7</td>\n",
       "      <td>SHAP</td>\n",
       "      <td>mix</td>\n",
       "    </tr>\n",
       "    <tr>\n",
       "      <th>11</th>\n",
       "      <td>Research</td>\n",
       "      <td>0.141297</td>\n",
       "      <td>0.7</td>\n",
       "      <td>SHAP</td>\n",
       "      <td>mix</td>\n",
       "    </tr>\n",
       "    <tr>\n",
       "      <th>12</th>\n",
       "      <td>GRE Score</td>\n",
       "      <td>0.175892</td>\n",
       "      <td>0.8</td>\n",
       "      <td>SHAP</td>\n",
       "      <td>mix</td>\n",
       "    </tr>\n",
       "    <tr>\n",
       "      <th>13</th>\n",
       "      <td>TOEFL Score</td>\n",
       "      <td>0.165636</td>\n",
       "      <td>0.8</td>\n",
       "      <td>SHAP</td>\n",
       "      <td>mix</td>\n",
       "    </tr>\n",
       "    <tr>\n",
       "      <th>14</th>\n",
       "      <td>University Rating</td>\n",
       "      <td>0.203403</td>\n",
       "      <td>0.8</td>\n",
       "      <td>SHAP</td>\n",
       "      <td>mix</td>\n",
       "    </tr>\n",
       "    <tr>\n",
       "      <th>15</th>\n",
       "      <td>Research</td>\n",
       "      <td>0.192018</td>\n",
       "      <td>0.8</td>\n",
       "      <td>SHAP</td>\n",
       "      <td>mix</td>\n",
       "    </tr>\n",
       "    <tr>\n",
       "      <th>16</th>\n",
       "      <td>GRE Score</td>\n",
       "      <td>0.215788</td>\n",
       "      <td>0.0</td>\n",
       "      <td>SHAP</td>\n",
       "      <td>swap</td>\n",
       "    </tr>\n",
       "    <tr>\n",
       "      <th>17</th>\n",
       "      <td>TOEFL Score</td>\n",
       "      <td>0.201487</td>\n",
       "      <td>0.0</td>\n",
       "      <td>SHAP</td>\n",
       "      <td>swap</td>\n",
       "    </tr>\n",
       "    <tr>\n",
       "      <th>18</th>\n",
       "      <td>University Rating</td>\n",
       "      <td>0.242538</td>\n",
       "      <td>0.0</td>\n",
       "      <td>SHAP</td>\n",
       "      <td>swap</td>\n",
       "    </tr>\n",
       "    <tr>\n",
       "      <th>19</th>\n",
       "      <td>Research</td>\n",
       "      <td>0.003890</td>\n",
       "      <td>0.0</td>\n",
       "      <td>SHAP</td>\n",
       "      <td>swap</td>\n",
       "    </tr>\n",
       "    <tr>\n",
       "      <th>20</th>\n",
       "      <td>GRE Score</td>\n",
       "      <td>0.203097</td>\n",
       "      <td>0.2</td>\n",
       "      <td>SHAP</td>\n",
       "      <td>swap</td>\n",
       "    </tr>\n",
       "    <tr>\n",
       "      <th>21</th>\n",
       "      <td>TOEFL Score</td>\n",
       "      <td>0.188799</td>\n",
       "      <td>0.2</td>\n",
       "      <td>SHAP</td>\n",
       "      <td>swap</td>\n",
       "    </tr>\n",
       "    <tr>\n",
       "      <th>22</th>\n",
       "      <td>University Rating</td>\n",
       "      <td>0.227947</td>\n",
       "      <td>0.2</td>\n",
       "      <td>SHAP</td>\n",
       "      <td>swap</td>\n",
       "    </tr>\n",
       "    <tr>\n",
       "      <th>23</th>\n",
       "      <td>Research</td>\n",
       "      <td>0.098476</td>\n",
       "      <td>0.2</td>\n",
       "      <td>SHAP</td>\n",
       "      <td>swap</td>\n",
       "    </tr>\n",
       "    <tr>\n",
       "      <th>24</th>\n",
       "      <td>GRE Score</td>\n",
       "      <td>0.185524</td>\n",
       "      <td>0.4</td>\n",
       "      <td>SHAP</td>\n",
       "      <td>swap</td>\n",
       "    </tr>\n",
       "    <tr>\n",
       "      <th>25</th>\n",
       "      <td>TOEFL Score</td>\n",
       "      <td>0.173097</td>\n",
       "      <td>0.4</td>\n",
       "      <td>SHAP</td>\n",
       "      <td>swap</td>\n",
       "    </tr>\n",
       "    <tr>\n",
       "      <th>26</th>\n",
       "      <td>University Rating</td>\n",
       "      <td>0.204397</td>\n",
       "      <td>0.4</td>\n",
       "      <td>SHAP</td>\n",
       "      <td>swap</td>\n",
       "    </tr>\n",
       "    <tr>\n",
       "      <th>27</th>\n",
       "      <td>Research</td>\n",
       "      <td>0.189626</td>\n",
       "      <td>0.4</td>\n",
       "      <td>SHAP</td>\n",
       "      <td>swap</td>\n",
       "    </tr>\n",
       "    <tr>\n",
       "      <th>28</th>\n",
       "      <td>GRE Score</td>\n",
       "      <td>0.163301</td>\n",
       "      <td>0.6</td>\n",
       "      <td>SHAP</td>\n",
       "      <td>swap</td>\n",
       "    </tr>\n",
       "    <tr>\n",
       "      <th>29</th>\n",
       "      <td>TOEFL Score</td>\n",
       "      <td>0.152520</td>\n",
       "      <td>0.6</td>\n",
       "      <td>SHAP</td>\n",
       "      <td>swap</td>\n",
       "    </tr>\n",
       "    <tr>\n",
       "      <th>30</th>\n",
       "      <td>University Rating</td>\n",
       "      <td>0.182134</td>\n",
       "      <td>0.6</td>\n",
       "      <td>SHAP</td>\n",
       "      <td>swap</td>\n",
       "    </tr>\n",
       "    <tr>\n",
       "      <th>31</th>\n",
       "      <td>Research</td>\n",
       "      <td>0.266693</td>\n",
       "      <td>0.6</td>\n",
       "      <td>SHAP</td>\n",
       "      <td>swap</td>\n",
       "    </tr>\n",
       "  </tbody>\n",
       "</table>\n",
       "</div>"
      ],
      "text/plain": [
       "              feature  meanAbsAttri  parameter explainer attack\n",
       "0           GRE Score      0.208071        0.5      SHAP    mix\n",
       "1         TOEFL Score      0.193979        0.5      SHAP    mix\n",
       "2   University Rating      0.237541        0.5      SHAP    mix\n",
       "3            Research      0.059461        0.5      SHAP    mix\n",
       "4           GRE Score      0.200765        0.6      SHAP    mix\n",
       "5         TOEFL Score      0.188062        0.6      SHAP    mix\n",
       "6   University Rating      0.231228        0.6      SHAP    mix\n",
       "7            Research      0.088956        0.6      SHAP    mix\n",
       "8           GRE Score      0.188433        0.7      SHAP    mix\n",
       "9         TOEFL Score      0.176708        0.7      SHAP    mix\n",
       "10  University Rating      0.218472        0.7      SHAP    mix\n",
       "11           Research      0.141297        0.7      SHAP    mix\n",
       "12          GRE Score      0.175892        0.8      SHAP    mix\n",
       "13        TOEFL Score      0.165636        0.8      SHAP    mix\n",
       "14  University Rating      0.203403        0.8      SHAP    mix\n",
       "15           Research      0.192018        0.8      SHAP    mix\n",
       "16          GRE Score      0.215788        0.0      SHAP   swap\n",
       "17        TOEFL Score      0.201487        0.0      SHAP   swap\n",
       "18  University Rating      0.242538        0.0      SHAP   swap\n",
       "19           Research      0.003890        0.0      SHAP   swap\n",
       "20          GRE Score      0.203097        0.2      SHAP   swap\n",
       "21        TOEFL Score      0.188799        0.2      SHAP   swap\n",
       "22  University Rating      0.227947        0.2      SHAP   swap\n",
       "23           Research      0.098476        0.2      SHAP   swap\n",
       "24          GRE Score      0.185524        0.4      SHAP   swap\n",
       "25        TOEFL Score      0.173097        0.4      SHAP   swap\n",
       "26  University Rating      0.204397        0.4      SHAP   swap\n",
       "27           Research      0.189626        0.4      SHAP   swap\n",
       "28          GRE Score      0.163301        0.6      SHAP   swap\n",
       "29        TOEFL Score      0.152520        0.6      SHAP   swap\n",
       "30  University Rating      0.182134        0.6      SHAP   swap\n",
       "31           Research      0.266693        0.6      SHAP   swap"
      ]
     },
     "execution_count": 37,
     "metadata": {},
     "output_type": "execute_result"
    }
   ],
   "source": [
    "df = pd.concat([df_admission_mix_shap, df_admission_swap_shap], axis=0, ignore_index=True)\n",
    "df"
   ]
  },
  {
   "cell_type": "code",
   "execution_count": 39,
   "metadata": {},
   "outputs": [
    {
     "data": {
      "text/html": [
       "<div>\n",
       "<style scoped>\n",
       "    .dataframe tbody tr th:only-of-type {\n",
       "        vertical-align: middle;\n",
       "    }\n",
       "\n",
       "    .dataframe tbody tr th {\n",
       "        vertical-align: top;\n",
       "    }\n",
       "\n",
       "    .dataframe thead th {\n",
       "        text-align: right;\n",
       "    }\n",
       "</style>\n",
       "<table border=\"1\" class=\"dataframe\">\n",
       "  <thead>\n",
       "    <tr style=\"text-align: right;\">\n",
       "      <th></th>\n",
       "      <th>feature</th>\n",
       "      <th>meanAbsAttri</th>\n",
       "      <th>parameter</th>\n",
       "      <th>attack</th>\n",
       "      <th>explainer</th>\n",
       "    </tr>\n",
       "  </thead>\n",
       "  <tbody>\n",
       "    <tr>\n",
       "      <th>0</th>\n",
       "      <td>GRE Score</td>\n",
       "      <td>0.216280</td>\n",
       "      <td>0.5</td>\n",
       "      <td>mix</td>\n",
       "      <td>linearSHAP</td>\n",
       "    </tr>\n",
       "    <tr>\n",
       "      <th>1</th>\n",
       "      <td>TOEFL Score</td>\n",
       "      <td>0.201672</td>\n",
       "      <td>0.5</td>\n",
       "      <td>mix</td>\n",
       "      <td>linearSHAP</td>\n",
       "    </tr>\n",
       "    <tr>\n",
       "      <th>2</th>\n",
       "      <td>University Rating</td>\n",
       "      <td>0.243000</td>\n",
       "      <td>0.5</td>\n",
       "      <td>mix</td>\n",
       "      <td>linearSHAP</td>\n",
       "    </tr>\n",
       "    <tr>\n",
       "      <th>3</th>\n",
       "      <td>GRE Score</td>\n",
       "      <td>0.216280</td>\n",
       "      <td>0.6</td>\n",
       "      <td>mix</td>\n",
       "      <td>linearSHAP</td>\n",
       "    </tr>\n",
       "    <tr>\n",
       "      <th>4</th>\n",
       "      <td>TOEFL Score</td>\n",
       "      <td>0.201672</td>\n",
       "      <td>0.6</td>\n",
       "      <td>mix</td>\n",
       "      <td>linearSHAP</td>\n",
       "    </tr>\n",
       "    <tr>\n",
       "      <th>5</th>\n",
       "      <td>University Rating</td>\n",
       "      <td>0.243000</td>\n",
       "      <td>0.6</td>\n",
       "      <td>mix</td>\n",
       "      <td>linearSHAP</td>\n",
       "    </tr>\n",
       "    <tr>\n",
       "      <th>6</th>\n",
       "      <td>GRE Score</td>\n",
       "      <td>0.216280</td>\n",
       "      <td>0.7</td>\n",
       "      <td>mix</td>\n",
       "      <td>linearSHAP</td>\n",
       "    </tr>\n",
       "    <tr>\n",
       "      <th>7</th>\n",
       "      <td>TOEFL Score</td>\n",
       "      <td>0.201672</td>\n",
       "      <td>0.7</td>\n",
       "      <td>mix</td>\n",
       "      <td>linearSHAP</td>\n",
       "    </tr>\n",
       "    <tr>\n",
       "      <th>8</th>\n",
       "      <td>University Rating</td>\n",
       "      <td>0.243000</td>\n",
       "      <td>0.7</td>\n",
       "      <td>mix</td>\n",
       "      <td>linearSHAP</td>\n",
       "    </tr>\n",
       "    <tr>\n",
       "      <th>9</th>\n",
       "      <td>GRE Score</td>\n",
       "      <td>0.216280</td>\n",
       "      <td>0.8</td>\n",
       "      <td>mix</td>\n",
       "      <td>linearSHAP</td>\n",
       "    </tr>\n",
       "    <tr>\n",
       "      <th>10</th>\n",
       "      <td>TOEFL Score</td>\n",
       "      <td>0.201672</td>\n",
       "      <td>0.8</td>\n",
       "      <td>mix</td>\n",
       "      <td>linearSHAP</td>\n",
       "    </tr>\n",
       "    <tr>\n",
       "      <th>11</th>\n",
       "      <td>University Rating</td>\n",
       "      <td>0.243000</td>\n",
       "      <td>0.8</td>\n",
       "      <td>mix</td>\n",
       "      <td>linearSHAP</td>\n",
       "    </tr>\n",
       "    <tr>\n",
       "      <th>12</th>\n",
       "      <td>GRE Score</td>\n",
       "      <td>0.216280</td>\n",
       "      <td>0.0</td>\n",
       "      <td>swap</td>\n",
       "      <td>linearSHAP</td>\n",
       "    </tr>\n",
       "    <tr>\n",
       "      <th>13</th>\n",
       "      <td>TOEFL Score</td>\n",
       "      <td>0.201672</td>\n",
       "      <td>0.0</td>\n",
       "      <td>swap</td>\n",
       "      <td>linearSHAP</td>\n",
       "    </tr>\n",
       "    <tr>\n",
       "      <th>14</th>\n",
       "      <td>University Rating</td>\n",
       "      <td>0.243000</td>\n",
       "      <td>0.0</td>\n",
       "      <td>swap</td>\n",
       "      <td>linearSHAP</td>\n",
       "    </tr>\n",
       "    <tr>\n",
       "      <th>15</th>\n",
       "      <td>GRE Score</td>\n",
       "      <td>0.216280</td>\n",
       "      <td>0.2</td>\n",
       "      <td>swap</td>\n",
       "      <td>linearSHAP</td>\n",
       "    </tr>\n",
       "    <tr>\n",
       "      <th>16</th>\n",
       "      <td>TOEFL Score</td>\n",
       "      <td>0.201672</td>\n",
       "      <td>0.2</td>\n",
       "      <td>swap</td>\n",
       "      <td>linearSHAP</td>\n",
       "    </tr>\n",
       "    <tr>\n",
       "      <th>17</th>\n",
       "      <td>University Rating</td>\n",
       "      <td>0.243000</td>\n",
       "      <td>0.2</td>\n",
       "      <td>swap</td>\n",
       "      <td>linearSHAP</td>\n",
       "    </tr>\n",
       "    <tr>\n",
       "      <th>18</th>\n",
       "      <td>GRE Score</td>\n",
       "      <td>0.216280</td>\n",
       "      <td>0.4</td>\n",
       "      <td>swap</td>\n",
       "      <td>linearSHAP</td>\n",
       "    </tr>\n",
       "    <tr>\n",
       "      <th>19</th>\n",
       "      <td>TOEFL Score</td>\n",
       "      <td>0.201672</td>\n",
       "      <td>0.4</td>\n",
       "      <td>swap</td>\n",
       "      <td>linearSHAP</td>\n",
       "    </tr>\n",
       "    <tr>\n",
       "      <th>20</th>\n",
       "      <td>University Rating</td>\n",
       "      <td>0.243000</td>\n",
       "      <td>0.4</td>\n",
       "      <td>swap</td>\n",
       "      <td>linearSHAP</td>\n",
       "    </tr>\n",
       "    <tr>\n",
       "      <th>21</th>\n",
       "      <td>GRE Score</td>\n",
       "      <td>0.216280</td>\n",
       "      <td>0.6</td>\n",
       "      <td>swap</td>\n",
       "      <td>linearSHAP</td>\n",
       "    </tr>\n",
       "    <tr>\n",
       "      <th>22</th>\n",
       "      <td>TOEFL Score</td>\n",
       "      <td>0.201672</td>\n",
       "      <td>0.6</td>\n",
       "      <td>swap</td>\n",
       "      <td>linearSHAP</td>\n",
       "    </tr>\n",
       "    <tr>\n",
       "      <th>23</th>\n",
       "      <td>University Rating</td>\n",
       "      <td>0.243000</td>\n",
       "      <td>0.6</td>\n",
       "      <td>swap</td>\n",
       "      <td>linearSHAP</td>\n",
       "    </tr>\n",
       "    <tr>\n",
       "      <th>24</th>\n",
       "      <td>Research</td>\n",
       "      <td>0.083200</td>\n",
       "      <td>0.5</td>\n",
       "      <td>mix</td>\n",
       "      <td>linearSHAP</td>\n",
       "    </tr>\n",
       "    <tr>\n",
       "      <th>25</th>\n",
       "      <td>Research</td>\n",
       "      <td>0.119800</td>\n",
       "      <td>0.6</td>\n",
       "      <td>mix</td>\n",
       "      <td>linearSHAP</td>\n",
       "    </tr>\n",
       "    <tr>\n",
       "      <th>26</th>\n",
       "      <td>Research</td>\n",
       "      <td>0.175600</td>\n",
       "      <td>0.7</td>\n",
       "      <td>mix</td>\n",
       "      <td>linearSHAP</td>\n",
       "    </tr>\n",
       "    <tr>\n",
       "      <th>27</th>\n",
       "      <td>Research</td>\n",
       "      <td>0.181800</td>\n",
       "      <td>0.8</td>\n",
       "      <td>mix</td>\n",
       "      <td>linearSHAP</td>\n",
       "    </tr>\n",
       "    <tr>\n",
       "      <th>28</th>\n",
       "      <td>Research</td>\n",
       "      <td>0.030200</td>\n",
       "      <td>0.0</td>\n",
       "      <td>swap</td>\n",
       "      <td>linearSHAP</td>\n",
       "    </tr>\n",
       "    <tr>\n",
       "      <th>29</th>\n",
       "      <td>Research</td>\n",
       "      <td>0.074200</td>\n",
       "      <td>0.2</td>\n",
       "      <td>swap</td>\n",
       "      <td>linearSHAP</td>\n",
       "    </tr>\n",
       "    <tr>\n",
       "      <th>30</th>\n",
       "      <td>Research</td>\n",
       "      <td>0.163600</td>\n",
       "      <td>0.4</td>\n",
       "      <td>swap</td>\n",
       "      <td>linearSHAP</td>\n",
       "    </tr>\n",
       "    <tr>\n",
       "      <th>31</th>\n",
       "      <td>Research</td>\n",
       "      <td>0.233200</td>\n",
       "      <td>0.6</td>\n",
       "      <td>swap</td>\n",
       "      <td>linearSHAP</td>\n",
       "    </tr>\n",
       "  </tbody>\n",
       "</table>\n",
       "</div>"
      ],
      "text/plain": [
       "              feature  meanAbsAttri  parameter attack   explainer\n",
       "0           GRE Score      0.216280        0.5    mix  linearSHAP\n",
       "1         TOEFL Score      0.201672        0.5    mix  linearSHAP\n",
       "2   University Rating      0.243000        0.5    mix  linearSHAP\n",
       "3           GRE Score      0.216280        0.6    mix  linearSHAP\n",
       "4         TOEFL Score      0.201672        0.6    mix  linearSHAP\n",
       "5   University Rating      0.243000        0.6    mix  linearSHAP\n",
       "6           GRE Score      0.216280        0.7    mix  linearSHAP\n",
       "7         TOEFL Score      0.201672        0.7    mix  linearSHAP\n",
       "8   University Rating      0.243000        0.7    mix  linearSHAP\n",
       "9           GRE Score      0.216280        0.8    mix  linearSHAP\n",
       "10        TOEFL Score      0.201672        0.8    mix  linearSHAP\n",
       "11  University Rating      0.243000        0.8    mix  linearSHAP\n",
       "12          GRE Score      0.216280        0.0   swap  linearSHAP\n",
       "13        TOEFL Score      0.201672        0.0   swap  linearSHAP\n",
       "14  University Rating      0.243000        0.0   swap  linearSHAP\n",
       "15          GRE Score      0.216280        0.2   swap  linearSHAP\n",
       "16        TOEFL Score      0.201672        0.2   swap  linearSHAP\n",
       "17  University Rating      0.243000        0.2   swap  linearSHAP\n",
       "18          GRE Score      0.216280        0.4   swap  linearSHAP\n",
       "19        TOEFL Score      0.201672        0.4   swap  linearSHAP\n",
       "20  University Rating      0.243000        0.4   swap  linearSHAP\n",
       "21          GRE Score      0.216280        0.6   swap  linearSHAP\n",
       "22        TOEFL Score      0.201672        0.6   swap  linearSHAP\n",
       "23  University Rating      0.243000        0.6   swap  linearSHAP\n",
       "24           Research      0.083200        0.5    mix  linearSHAP\n",
       "25           Research      0.119800        0.6    mix  linearSHAP\n",
       "26           Research      0.175600        0.7    mix  linearSHAP\n",
       "27           Research      0.181800        0.8    mix  linearSHAP\n",
       "28           Research      0.030200        0.0   swap  linearSHAP\n",
       "29           Research      0.074200        0.2   swap  linearSHAP\n",
       "30           Research      0.163600        0.4   swap  linearSHAP\n",
       "31           Research      0.233200        0.6   swap  linearSHAP"
      ]
     },
     "execution_count": 39,
     "metadata": {},
     "output_type": "execute_result"
    }
   ],
   "source": [
    "df2 = pd.read_csv(PATH_data_output + 'admission_linearSHAPmeanAbs.csv')\n",
    "df2"
   ]
  },
  {
   "cell_type": "code",
   "execution_count": 51,
   "metadata": {},
   "outputs": [],
   "source": [
    "output = pd.concat([df,df2], axis=0, ignore_index=True)\n",
    "output = output.sort_values(by=['parameter', 'explainer'])"
   ]
  },
  {
   "cell_type": "code",
   "execution_count": 59,
   "metadata": {},
   "outputs": [
    {
     "data": {
      "application/vnd.plotly.v1+json": {
       "config": {
        "plotlyServerURL": "https://plot.ly"
       },
       "data": [
        {
         "hovertemplate": "explainer=SHAP<br>feature=GRE Score<br>parameter=%{x}<br>meanAbsAttri=%{y}<extra></extra>",
         "legendgroup": "SHAP",
         "line": {
          "color": "#636efa",
          "dash": "solid"
         },
         "marker": {
          "symbol": "circle"
         },
         "mode": "lines",
         "name": "SHAP",
         "orientation": "v",
         "showlegend": true,
         "type": "scatter",
         "x": [
          0,
          0.2,
          0.4,
          0.6
         ],
         "xaxis": "x",
         "y": [
          0.21578791818181797,
          0.20309721818181814,
          0.1855241818181817,
          0.16330131818181812
         ],
         "yaxis": "y"
        },
        {
         "hovertemplate": "explainer=SHAP<br>feature=TOEFL Score<br>parameter=%{x}<br>meanAbsAttri=%{y}<extra></extra>",
         "legendgroup": "SHAP",
         "line": {
          "color": "#636efa",
          "dash": "solid"
         },
         "marker": {
          "symbol": "circle"
         },
         "mode": "lines",
         "name": "SHAP",
         "orientation": "v",
         "showlegend": false,
         "type": "scatter",
         "x": [
          0,
          0.2,
          0.4,
          0.6
         ],
         "xaxis": "x2",
         "y": [
          0.2014873,
          0.18879882727272715,
          0.17309720909090895,
          0.15251953636363633
         ],
         "yaxis": "y2"
        },
        {
         "hovertemplate": "explainer=SHAP<br>feature=University Rating<br>parameter=%{x}<br>meanAbsAttri=%{y}<extra></extra>",
         "legendgroup": "SHAP",
         "line": {
          "color": "#636efa",
          "dash": "solid"
         },
         "marker": {
          "symbol": "circle"
         },
         "mode": "lines",
         "name": "SHAP",
         "orientation": "v",
         "showlegend": false,
         "type": "scatter",
         "x": [
          0,
          0.2,
          0.4,
          0.6
         ],
         "xaxis": "x3",
         "y": [
          0.24253805454545446,
          0.22794696363636344,
          0.20439695454545434,
          0.1821342636363635
         ],
         "yaxis": "y3"
        },
        {
         "hovertemplate": "explainer=SHAP<br>feature=Research<br>parameter=%{x}<br>meanAbsAttri=%{y}<extra></extra>",
         "legendgroup": "SHAP",
         "line": {
          "color": "#636efa",
          "dash": "solid"
         },
         "marker": {
          "symbol": "circle"
         },
         "mode": "lines",
         "name": "SHAP",
         "orientation": "v",
         "showlegend": false,
         "type": "scatter",
         "x": [
          0,
          0.2,
          0.4,
          0.6
         ],
         "xaxis": "x4",
         "y": [
          0.003889663636363654,
          0.09847610909090916,
          0.18962554545454538,
          0.2666929727272726
         ],
         "yaxis": "y4"
        },
        {
         "hovertemplate": "explainer=linearSHAP<br>feature=GRE Score<br>parameter=%{x}<br>meanAbsAttri=%{y}<extra></extra>",
         "legendgroup": "linearSHAP",
         "line": {
          "color": "#EF553B",
          "dash": "solid"
         },
         "marker": {
          "symbol": "circle"
         },
         "mode": "lines",
         "name": "linearSHAP",
         "orientation": "v",
         "showlegend": true,
         "type": "scatter",
         "x": [
          0,
          0.2,
          0.4,
          0.6
         ],
         "xaxis": "x",
         "y": [
          0.21628,
          0.21628,
          0.21628,
          0.21628
         ],
         "yaxis": "y"
        },
        {
         "hovertemplate": "explainer=linearSHAP<br>feature=TOEFL Score<br>parameter=%{x}<br>meanAbsAttri=%{y}<extra></extra>",
         "legendgroup": "linearSHAP",
         "line": {
          "color": "#EF553B",
          "dash": "solid"
         },
         "marker": {
          "symbol": "circle"
         },
         "mode": "lines",
         "name": "linearSHAP",
         "orientation": "v",
         "showlegend": false,
         "type": "scatter",
         "x": [
          0,
          0.2,
          0.4,
          0.6
         ],
         "xaxis": "x2",
         "y": [
          0.201672,
          0.201672,
          0.201672,
          0.201672
         ],
         "yaxis": "y2"
        },
        {
         "hovertemplate": "explainer=linearSHAP<br>feature=University Rating<br>parameter=%{x}<br>meanAbsAttri=%{y}<extra></extra>",
         "legendgroup": "linearSHAP",
         "line": {
          "color": "#EF553B",
          "dash": "solid"
         },
         "marker": {
          "symbol": "circle"
         },
         "mode": "lines",
         "name": "linearSHAP",
         "orientation": "v",
         "showlegend": false,
         "type": "scatter",
         "x": [
          0,
          0.2,
          0.4,
          0.6
         ],
         "xaxis": "x3",
         "y": [
          0.243,
          0.243,
          0.243,
          0.243
         ],
         "yaxis": "y3"
        },
        {
         "hovertemplate": "explainer=linearSHAP<br>feature=Research<br>parameter=%{x}<br>meanAbsAttri=%{y}<extra></extra>",
         "legendgroup": "linearSHAP",
         "line": {
          "color": "#EF553B",
          "dash": "solid"
         },
         "marker": {
          "symbol": "circle"
         },
         "mode": "lines",
         "name": "linearSHAP",
         "orientation": "v",
         "showlegend": false,
         "type": "scatter",
         "x": [
          0,
          0.2,
          0.4,
          0.6
         ],
         "xaxis": "x4",
         "y": [
          0.0301999999999999,
          0.0742,
          0.1636,
          0.2332
         ],
         "yaxis": "y4"
        }
       ],
       "layout": {
        "annotations": [
         {
          "font": {},
          "showarrow": false,
          "text": "feature=GRE Score",
          "x": 0.1175,
          "xanchor": "center",
          "xref": "paper",
          "y": 1,
          "yanchor": "bottom",
          "yref": "paper"
         },
         {
          "font": {},
          "showarrow": false,
          "text": "feature=TOEFL Score",
          "x": 0.3725,
          "xanchor": "center",
          "xref": "paper",
          "y": 1,
          "yanchor": "bottom",
          "yref": "paper"
         },
         {
          "font": {},
          "showarrow": false,
          "text": "feature=University Rating",
          "x": 0.6275,
          "xanchor": "center",
          "xref": "paper",
          "y": 1,
          "yanchor": "bottom",
          "yref": "paper"
         },
         {
          "font": {},
          "showarrow": false,
          "text": "feature=Research",
          "x": 0.8824999999999998,
          "xanchor": "center",
          "xref": "paper",
          "y": 1,
          "yanchor": "bottom",
          "yref": "paper"
         }
        ],
        "legend": {
         "title": {
          "text": "explainer"
         },
         "tracegroupgap": 0
        },
        "margin": {
         "t": 60
        },
        "template": {
         "data": {
          "bar": [
           {
            "error_x": {
             "color": "#2a3f5f"
            },
            "error_y": {
             "color": "#2a3f5f"
            },
            "marker": {
             "line": {
              "color": "#E5ECF6",
              "width": 0.5
             },
             "pattern": {
              "fillmode": "overlay",
              "size": 10,
              "solidity": 0.2
             }
            },
            "type": "bar"
           }
          ],
          "barpolar": [
           {
            "marker": {
             "line": {
              "color": "#E5ECF6",
              "width": 0.5
             },
             "pattern": {
              "fillmode": "overlay",
              "size": 10,
              "solidity": 0.2
             }
            },
            "type": "barpolar"
           }
          ],
          "carpet": [
           {
            "aaxis": {
             "endlinecolor": "#2a3f5f",
             "gridcolor": "white",
             "linecolor": "white",
             "minorgridcolor": "white",
             "startlinecolor": "#2a3f5f"
            },
            "baxis": {
             "endlinecolor": "#2a3f5f",
             "gridcolor": "white",
             "linecolor": "white",
             "minorgridcolor": "white",
             "startlinecolor": "#2a3f5f"
            },
            "type": "carpet"
           }
          ],
          "choropleth": [
           {
            "colorbar": {
             "outlinewidth": 0,
             "ticks": ""
            },
            "type": "choropleth"
           }
          ],
          "contour": [
           {
            "colorbar": {
             "outlinewidth": 0,
             "ticks": ""
            },
            "colorscale": [
             [
              0,
              "#0d0887"
             ],
             [
              0.1111111111111111,
              "#46039f"
             ],
             [
              0.2222222222222222,
              "#7201a8"
             ],
             [
              0.3333333333333333,
              "#9c179e"
             ],
             [
              0.4444444444444444,
              "#bd3786"
             ],
             [
              0.5555555555555556,
              "#d8576b"
             ],
             [
              0.6666666666666666,
              "#ed7953"
             ],
             [
              0.7777777777777778,
              "#fb9f3a"
             ],
             [
              0.8888888888888888,
              "#fdca26"
             ],
             [
              1,
              "#f0f921"
             ]
            ],
            "type": "contour"
           }
          ],
          "contourcarpet": [
           {
            "colorbar": {
             "outlinewidth": 0,
             "ticks": ""
            },
            "type": "contourcarpet"
           }
          ],
          "heatmap": [
           {
            "colorbar": {
             "outlinewidth": 0,
             "ticks": ""
            },
            "colorscale": [
             [
              0,
              "#0d0887"
             ],
             [
              0.1111111111111111,
              "#46039f"
             ],
             [
              0.2222222222222222,
              "#7201a8"
             ],
             [
              0.3333333333333333,
              "#9c179e"
             ],
             [
              0.4444444444444444,
              "#bd3786"
             ],
             [
              0.5555555555555556,
              "#d8576b"
             ],
             [
              0.6666666666666666,
              "#ed7953"
             ],
             [
              0.7777777777777778,
              "#fb9f3a"
             ],
             [
              0.8888888888888888,
              "#fdca26"
             ],
             [
              1,
              "#f0f921"
             ]
            ],
            "type": "heatmap"
           }
          ],
          "heatmapgl": [
           {
            "colorbar": {
             "outlinewidth": 0,
             "ticks": ""
            },
            "colorscale": [
             [
              0,
              "#0d0887"
             ],
             [
              0.1111111111111111,
              "#46039f"
             ],
             [
              0.2222222222222222,
              "#7201a8"
             ],
             [
              0.3333333333333333,
              "#9c179e"
             ],
             [
              0.4444444444444444,
              "#bd3786"
             ],
             [
              0.5555555555555556,
              "#d8576b"
             ],
             [
              0.6666666666666666,
              "#ed7953"
             ],
             [
              0.7777777777777778,
              "#fb9f3a"
             ],
             [
              0.8888888888888888,
              "#fdca26"
             ],
             [
              1,
              "#f0f921"
             ]
            ],
            "type": "heatmapgl"
           }
          ],
          "histogram": [
           {
            "marker": {
             "pattern": {
              "fillmode": "overlay",
              "size": 10,
              "solidity": 0.2
             }
            },
            "type": "histogram"
           }
          ],
          "histogram2d": [
           {
            "colorbar": {
             "outlinewidth": 0,
             "ticks": ""
            },
            "colorscale": [
             [
              0,
              "#0d0887"
             ],
             [
              0.1111111111111111,
              "#46039f"
             ],
             [
              0.2222222222222222,
              "#7201a8"
             ],
             [
              0.3333333333333333,
              "#9c179e"
             ],
             [
              0.4444444444444444,
              "#bd3786"
             ],
             [
              0.5555555555555556,
              "#d8576b"
             ],
             [
              0.6666666666666666,
              "#ed7953"
             ],
             [
              0.7777777777777778,
              "#fb9f3a"
             ],
             [
              0.8888888888888888,
              "#fdca26"
             ],
             [
              1,
              "#f0f921"
             ]
            ],
            "type": "histogram2d"
           }
          ],
          "histogram2dcontour": [
           {
            "colorbar": {
             "outlinewidth": 0,
             "ticks": ""
            },
            "colorscale": [
             [
              0,
              "#0d0887"
             ],
             [
              0.1111111111111111,
              "#46039f"
             ],
             [
              0.2222222222222222,
              "#7201a8"
             ],
             [
              0.3333333333333333,
              "#9c179e"
             ],
             [
              0.4444444444444444,
              "#bd3786"
             ],
             [
              0.5555555555555556,
              "#d8576b"
             ],
             [
              0.6666666666666666,
              "#ed7953"
             ],
             [
              0.7777777777777778,
              "#fb9f3a"
             ],
             [
              0.8888888888888888,
              "#fdca26"
             ],
             [
              1,
              "#f0f921"
             ]
            ],
            "type": "histogram2dcontour"
           }
          ],
          "mesh3d": [
           {
            "colorbar": {
             "outlinewidth": 0,
             "ticks": ""
            },
            "type": "mesh3d"
           }
          ],
          "parcoords": [
           {
            "line": {
             "colorbar": {
              "outlinewidth": 0,
              "ticks": ""
             }
            },
            "type": "parcoords"
           }
          ],
          "pie": [
           {
            "automargin": true,
            "type": "pie"
           }
          ],
          "scatter": [
           {
            "fillpattern": {
             "fillmode": "overlay",
             "size": 10,
             "solidity": 0.2
            },
            "type": "scatter"
           }
          ],
          "scatter3d": [
           {
            "line": {
             "colorbar": {
              "outlinewidth": 0,
              "ticks": ""
             }
            },
            "marker": {
             "colorbar": {
              "outlinewidth": 0,
              "ticks": ""
             }
            },
            "type": "scatter3d"
           }
          ],
          "scattercarpet": [
           {
            "marker": {
             "colorbar": {
              "outlinewidth": 0,
              "ticks": ""
             }
            },
            "type": "scattercarpet"
           }
          ],
          "scattergeo": [
           {
            "marker": {
             "colorbar": {
              "outlinewidth": 0,
              "ticks": ""
             }
            },
            "type": "scattergeo"
           }
          ],
          "scattergl": [
           {
            "marker": {
             "colorbar": {
              "outlinewidth": 0,
              "ticks": ""
             }
            },
            "type": "scattergl"
           }
          ],
          "scattermapbox": [
           {
            "marker": {
             "colorbar": {
              "outlinewidth": 0,
              "ticks": ""
             }
            },
            "type": "scattermapbox"
           }
          ],
          "scatterpolar": [
           {
            "marker": {
             "colorbar": {
              "outlinewidth": 0,
              "ticks": ""
             }
            },
            "type": "scatterpolar"
           }
          ],
          "scatterpolargl": [
           {
            "marker": {
             "colorbar": {
              "outlinewidth": 0,
              "ticks": ""
             }
            },
            "type": "scatterpolargl"
           }
          ],
          "scatterternary": [
           {
            "marker": {
             "colorbar": {
              "outlinewidth": 0,
              "ticks": ""
             }
            },
            "type": "scatterternary"
           }
          ],
          "surface": [
           {
            "colorbar": {
             "outlinewidth": 0,
             "ticks": ""
            },
            "colorscale": [
             [
              0,
              "#0d0887"
             ],
             [
              0.1111111111111111,
              "#46039f"
             ],
             [
              0.2222222222222222,
              "#7201a8"
             ],
             [
              0.3333333333333333,
              "#9c179e"
             ],
             [
              0.4444444444444444,
              "#bd3786"
             ],
             [
              0.5555555555555556,
              "#d8576b"
             ],
             [
              0.6666666666666666,
              "#ed7953"
             ],
             [
              0.7777777777777778,
              "#fb9f3a"
             ],
             [
              0.8888888888888888,
              "#fdca26"
             ],
             [
              1,
              "#f0f921"
             ]
            ],
            "type": "surface"
           }
          ],
          "table": [
           {
            "cells": {
             "fill": {
              "color": "#EBF0F8"
             },
             "line": {
              "color": "white"
             }
            },
            "header": {
             "fill": {
              "color": "#C8D4E3"
             },
             "line": {
              "color": "white"
             }
            },
            "type": "table"
           }
          ]
         },
         "layout": {
          "annotationdefaults": {
           "arrowcolor": "#2a3f5f",
           "arrowhead": 0,
           "arrowwidth": 1
          },
          "autotypenumbers": "strict",
          "coloraxis": {
           "colorbar": {
            "outlinewidth": 0,
            "ticks": ""
           }
          },
          "colorscale": {
           "diverging": [
            [
             0,
             "#8e0152"
            ],
            [
             0.1,
             "#c51b7d"
            ],
            [
             0.2,
             "#de77ae"
            ],
            [
             0.3,
             "#f1b6da"
            ],
            [
             0.4,
             "#fde0ef"
            ],
            [
             0.5,
             "#f7f7f7"
            ],
            [
             0.6,
             "#e6f5d0"
            ],
            [
             0.7,
             "#b8e186"
            ],
            [
             0.8,
             "#7fbc41"
            ],
            [
             0.9,
             "#4d9221"
            ],
            [
             1,
             "#276419"
            ]
           ],
           "sequential": [
            [
             0,
             "#0d0887"
            ],
            [
             0.1111111111111111,
             "#46039f"
            ],
            [
             0.2222222222222222,
             "#7201a8"
            ],
            [
             0.3333333333333333,
             "#9c179e"
            ],
            [
             0.4444444444444444,
             "#bd3786"
            ],
            [
             0.5555555555555556,
             "#d8576b"
            ],
            [
             0.6666666666666666,
             "#ed7953"
            ],
            [
             0.7777777777777778,
             "#fb9f3a"
            ],
            [
             0.8888888888888888,
             "#fdca26"
            ],
            [
             1,
             "#f0f921"
            ]
           ],
           "sequentialminus": [
            [
             0,
             "#0d0887"
            ],
            [
             0.1111111111111111,
             "#46039f"
            ],
            [
             0.2222222222222222,
             "#7201a8"
            ],
            [
             0.3333333333333333,
             "#9c179e"
            ],
            [
             0.4444444444444444,
             "#bd3786"
            ],
            [
             0.5555555555555556,
             "#d8576b"
            ],
            [
             0.6666666666666666,
             "#ed7953"
            ],
            [
             0.7777777777777778,
             "#fb9f3a"
            ],
            [
             0.8888888888888888,
             "#fdca26"
            ],
            [
             1,
             "#f0f921"
            ]
           ]
          },
          "colorway": [
           "#636efa",
           "#EF553B",
           "#00cc96",
           "#ab63fa",
           "#FFA15A",
           "#19d3f3",
           "#FF6692",
           "#B6E880",
           "#FF97FF",
           "#FECB52"
          ],
          "font": {
           "color": "#2a3f5f"
          },
          "geo": {
           "bgcolor": "white",
           "lakecolor": "white",
           "landcolor": "#E5ECF6",
           "showlakes": true,
           "showland": true,
           "subunitcolor": "white"
          },
          "hoverlabel": {
           "align": "left"
          },
          "hovermode": "closest",
          "mapbox": {
           "style": "light"
          },
          "paper_bgcolor": "white",
          "plot_bgcolor": "#E5ECF6",
          "polar": {
           "angularaxis": {
            "gridcolor": "white",
            "linecolor": "white",
            "ticks": ""
           },
           "bgcolor": "#E5ECF6",
           "radialaxis": {
            "gridcolor": "white",
            "linecolor": "white",
            "ticks": ""
           }
          },
          "scene": {
           "xaxis": {
            "backgroundcolor": "#E5ECF6",
            "gridcolor": "white",
            "gridwidth": 2,
            "linecolor": "white",
            "showbackground": true,
            "ticks": "",
            "zerolinecolor": "white"
           },
           "yaxis": {
            "backgroundcolor": "#E5ECF6",
            "gridcolor": "white",
            "gridwidth": 2,
            "linecolor": "white",
            "showbackground": true,
            "ticks": "",
            "zerolinecolor": "white"
           },
           "zaxis": {
            "backgroundcolor": "#E5ECF6",
            "gridcolor": "white",
            "gridwidth": 2,
            "linecolor": "white",
            "showbackground": true,
            "ticks": "",
            "zerolinecolor": "white"
           }
          },
          "shapedefaults": {
           "line": {
            "color": "#2a3f5f"
           }
          },
          "ternary": {
           "aaxis": {
            "gridcolor": "white",
            "linecolor": "white",
            "ticks": ""
           },
           "baxis": {
            "gridcolor": "white",
            "linecolor": "white",
            "ticks": ""
           },
           "bgcolor": "#E5ECF6",
           "caxis": {
            "gridcolor": "white",
            "linecolor": "white",
            "ticks": ""
           }
          },
          "title": {
           "x": 0.05
          },
          "xaxis": {
           "automargin": true,
           "gridcolor": "white",
           "linecolor": "white",
           "ticks": "",
           "title": {
            "standoff": 15
           },
           "zerolinecolor": "white",
           "zerolinewidth": 2
          },
          "yaxis": {
           "automargin": true,
           "gridcolor": "white",
           "linecolor": "white",
           "ticks": "",
           "title": {
            "standoff": 15
           },
           "zerolinecolor": "white",
           "zerolinewidth": 2
          }
         }
        },
        "xaxis": {
         "anchor": "y",
         "domain": [
          0,
          0.235
         ],
         "title": {
          "text": "parameter"
         }
        },
        "xaxis2": {
         "anchor": "y2",
         "domain": [
          0.255,
          0.49
         ],
         "matches": "x",
         "title": {
          "text": "parameter"
         }
        },
        "xaxis3": {
         "anchor": "y3",
         "domain": [
          0.51,
          0.745
         ],
         "matches": "x",
         "title": {
          "text": "parameter"
         }
        },
        "xaxis4": {
         "anchor": "y4",
         "domain": [
          0.7649999999999999,
          0.9999999999999999
         ],
         "matches": "x",
         "title": {
          "text": "parameter"
         }
        },
        "yaxis": {
         "anchor": "x",
         "domain": [
          0,
          1
         ],
         "range": [
          0,
          0.3
         ],
         "title": {
          "text": "meanAbsAttri"
         }
        },
        "yaxis2": {
         "anchor": "x2",
         "domain": [
          0,
          1
         ],
         "matches": "y",
         "showticklabels": false
        },
        "yaxis3": {
         "anchor": "x3",
         "domain": [
          0,
          1
         ],
         "matches": "y",
         "showticklabels": false
        },
        "yaxis4": {
         "anchor": "x4",
         "domain": [
          0,
          1
         ],
         "matches": "y",
         "showticklabels": false
        }
       }
      }
     },
     "metadata": {},
     "output_type": "display_data"
    }
   ],
   "source": [
    "import plotly.express as px\n",
    "\n",
    "\n",
    "fig = px.line(output[output['attack'] == 'swap'], x=\"parameter\", y=\"meanAbsAttri\", color='explainer', facet_col='feature')\n",
    "fig.update_layout(yaxis_range=[0,0.3])\n",
    "\n",
    "fig.show()"
   ]
  },
  {
   "cell_type": "code",
   "execution_count": 60,
   "metadata": {},
   "outputs": [
    {
     "data": {
      "application/vnd.plotly.v1+json": {
       "config": {
        "plotlyServerURL": "https://plot.ly"
       },
       "data": [
        {
         "hovertemplate": "explainer=SHAP<br>feature=GRE Score<br>parameter=%{x}<br>meanAbsAttri=%{y}<extra></extra>",
         "legendgroup": "SHAP",
         "line": {
          "color": "#636efa",
          "dash": "solid"
         },
         "marker": {
          "symbol": "circle"
         },
         "mode": "lines",
         "name": "SHAP",
         "orientation": "v",
         "showlegend": true,
         "type": "scatter",
         "x": [
          0.5,
          0.6,
          0.7,
          0.8
         ],
         "xaxis": "x",
         "y": [
          0.20807121818181806,
          0.2007647818181819,
          0.18843258181818168,
          0.17589226363636365
         ],
         "yaxis": "y"
        },
        {
         "hovertemplate": "explainer=SHAP<br>feature=TOEFL Score<br>parameter=%{x}<br>meanAbsAttri=%{y}<extra></extra>",
         "legendgroup": "SHAP",
         "line": {
          "color": "#636efa",
          "dash": "solid"
         },
         "marker": {
          "symbol": "circle"
         },
         "mode": "lines",
         "name": "SHAP",
         "orientation": "v",
         "showlegend": false,
         "type": "scatter",
         "x": [
          0.5,
          0.6,
          0.7,
          0.8
         ],
         "xaxis": "x2",
         "y": [
          0.19397904545454547,
          0.18806221818181806,
          0.1767078909090908,
          0.16563559090909089
         ],
         "yaxis": "y2"
        },
        {
         "hovertemplate": "explainer=SHAP<br>feature=University Rating<br>parameter=%{x}<br>meanAbsAttri=%{y}<extra></extra>",
         "legendgroup": "SHAP",
         "line": {
          "color": "#636efa",
          "dash": "solid"
         },
         "marker": {
          "symbol": "circle"
         },
         "mode": "lines",
         "name": "SHAP",
         "orientation": "v",
         "showlegend": false,
         "type": "scatter",
         "x": [
          0.5,
          0.6,
          0.7,
          0.8
         ],
         "xaxis": "x3",
         "y": [
          0.23754136363636355,
          0.23122782727272717,
          0.21847246363636347,
          0.20340315454545435
         ],
         "yaxis": "y3"
        },
        {
         "hovertemplate": "explainer=SHAP<br>feature=Research<br>parameter=%{x}<br>meanAbsAttri=%{y}<extra></extra>",
         "legendgroup": "SHAP",
         "line": {
          "color": "#636efa",
          "dash": "solid"
         },
         "marker": {
          "symbol": "circle"
         },
         "mode": "lines",
         "name": "SHAP",
         "orientation": "v",
         "showlegend": false,
         "type": "scatter",
         "x": [
          0.5,
          0.6,
          0.7,
          0.8
         ],
         "xaxis": "x4",
         "y": [
          0.05946072727272728,
          0.08895599090909094,
          0.14129696363636365,
          0.19201782727272731
         ],
         "yaxis": "y4"
        },
        {
         "hovertemplate": "explainer=linearSHAP<br>feature=GRE Score<br>parameter=%{x}<br>meanAbsAttri=%{y}<extra></extra>",
         "legendgroup": "linearSHAP",
         "line": {
          "color": "#EF553B",
          "dash": "solid"
         },
         "marker": {
          "symbol": "circle"
         },
         "mode": "lines",
         "name": "linearSHAP",
         "orientation": "v",
         "showlegend": true,
         "type": "scatter",
         "x": [
          0.5,
          0.6,
          0.7,
          0.8
         ],
         "xaxis": "x",
         "y": [
          0.21628,
          0.21628,
          0.21628,
          0.21628
         ],
         "yaxis": "y"
        },
        {
         "hovertemplate": "explainer=linearSHAP<br>feature=TOEFL Score<br>parameter=%{x}<br>meanAbsAttri=%{y}<extra></extra>",
         "legendgroup": "linearSHAP",
         "line": {
          "color": "#EF553B",
          "dash": "solid"
         },
         "marker": {
          "symbol": "circle"
         },
         "mode": "lines",
         "name": "linearSHAP",
         "orientation": "v",
         "showlegend": false,
         "type": "scatter",
         "x": [
          0.5,
          0.6,
          0.7,
          0.8
         ],
         "xaxis": "x2",
         "y": [
          0.201672,
          0.201672,
          0.201672,
          0.201672
         ],
         "yaxis": "y2"
        },
        {
         "hovertemplate": "explainer=linearSHAP<br>feature=University Rating<br>parameter=%{x}<br>meanAbsAttri=%{y}<extra></extra>",
         "legendgroup": "linearSHAP",
         "line": {
          "color": "#EF553B",
          "dash": "solid"
         },
         "marker": {
          "symbol": "circle"
         },
         "mode": "lines",
         "name": "linearSHAP",
         "orientation": "v",
         "showlegend": false,
         "type": "scatter",
         "x": [
          0.5,
          0.6,
          0.7,
          0.8
         ],
         "xaxis": "x3",
         "y": [
          0.243,
          0.243,
          0.243,
          0.243
         ],
         "yaxis": "y3"
        },
        {
         "hovertemplate": "explainer=linearSHAP<br>feature=Research<br>parameter=%{x}<br>meanAbsAttri=%{y}<extra></extra>",
         "legendgroup": "linearSHAP",
         "line": {
          "color": "#EF553B",
          "dash": "solid"
         },
         "marker": {
          "symbol": "circle"
         },
         "mode": "lines",
         "name": "linearSHAP",
         "orientation": "v",
         "showlegend": false,
         "type": "scatter",
         "x": [
          0.5,
          0.6,
          0.7,
          0.8
         ],
         "xaxis": "x4",
         "y": [
          0.0832,
          0.1198,
          0.1755999999999999,
          0.1818
         ],
         "yaxis": "y4"
        }
       ],
       "layout": {
        "annotations": [
         {
          "font": {},
          "showarrow": false,
          "text": "feature=GRE Score",
          "x": 0.1175,
          "xanchor": "center",
          "xref": "paper",
          "y": 1,
          "yanchor": "bottom",
          "yref": "paper"
         },
         {
          "font": {},
          "showarrow": false,
          "text": "feature=TOEFL Score",
          "x": 0.3725,
          "xanchor": "center",
          "xref": "paper",
          "y": 1,
          "yanchor": "bottom",
          "yref": "paper"
         },
         {
          "font": {},
          "showarrow": false,
          "text": "feature=University Rating",
          "x": 0.6275,
          "xanchor": "center",
          "xref": "paper",
          "y": 1,
          "yanchor": "bottom",
          "yref": "paper"
         },
         {
          "font": {},
          "showarrow": false,
          "text": "feature=Research",
          "x": 0.8824999999999998,
          "xanchor": "center",
          "xref": "paper",
          "y": 1,
          "yanchor": "bottom",
          "yref": "paper"
         }
        ],
        "legend": {
         "title": {
          "text": "explainer"
         },
         "tracegroupgap": 0
        },
        "margin": {
         "t": 60
        },
        "template": {
         "data": {
          "bar": [
           {
            "error_x": {
             "color": "#2a3f5f"
            },
            "error_y": {
             "color": "#2a3f5f"
            },
            "marker": {
             "line": {
              "color": "#E5ECF6",
              "width": 0.5
             },
             "pattern": {
              "fillmode": "overlay",
              "size": 10,
              "solidity": 0.2
             }
            },
            "type": "bar"
           }
          ],
          "barpolar": [
           {
            "marker": {
             "line": {
              "color": "#E5ECF6",
              "width": 0.5
             },
             "pattern": {
              "fillmode": "overlay",
              "size": 10,
              "solidity": 0.2
             }
            },
            "type": "barpolar"
           }
          ],
          "carpet": [
           {
            "aaxis": {
             "endlinecolor": "#2a3f5f",
             "gridcolor": "white",
             "linecolor": "white",
             "minorgridcolor": "white",
             "startlinecolor": "#2a3f5f"
            },
            "baxis": {
             "endlinecolor": "#2a3f5f",
             "gridcolor": "white",
             "linecolor": "white",
             "minorgridcolor": "white",
             "startlinecolor": "#2a3f5f"
            },
            "type": "carpet"
           }
          ],
          "choropleth": [
           {
            "colorbar": {
             "outlinewidth": 0,
             "ticks": ""
            },
            "type": "choropleth"
           }
          ],
          "contour": [
           {
            "colorbar": {
             "outlinewidth": 0,
             "ticks": ""
            },
            "colorscale": [
             [
              0,
              "#0d0887"
             ],
             [
              0.1111111111111111,
              "#46039f"
             ],
             [
              0.2222222222222222,
              "#7201a8"
             ],
             [
              0.3333333333333333,
              "#9c179e"
             ],
             [
              0.4444444444444444,
              "#bd3786"
             ],
             [
              0.5555555555555556,
              "#d8576b"
             ],
             [
              0.6666666666666666,
              "#ed7953"
             ],
             [
              0.7777777777777778,
              "#fb9f3a"
             ],
             [
              0.8888888888888888,
              "#fdca26"
             ],
             [
              1,
              "#f0f921"
             ]
            ],
            "type": "contour"
           }
          ],
          "contourcarpet": [
           {
            "colorbar": {
             "outlinewidth": 0,
             "ticks": ""
            },
            "type": "contourcarpet"
           }
          ],
          "heatmap": [
           {
            "colorbar": {
             "outlinewidth": 0,
             "ticks": ""
            },
            "colorscale": [
             [
              0,
              "#0d0887"
             ],
             [
              0.1111111111111111,
              "#46039f"
             ],
             [
              0.2222222222222222,
              "#7201a8"
             ],
             [
              0.3333333333333333,
              "#9c179e"
             ],
             [
              0.4444444444444444,
              "#bd3786"
             ],
             [
              0.5555555555555556,
              "#d8576b"
             ],
             [
              0.6666666666666666,
              "#ed7953"
             ],
             [
              0.7777777777777778,
              "#fb9f3a"
             ],
             [
              0.8888888888888888,
              "#fdca26"
             ],
             [
              1,
              "#f0f921"
             ]
            ],
            "type": "heatmap"
           }
          ],
          "heatmapgl": [
           {
            "colorbar": {
             "outlinewidth": 0,
             "ticks": ""
            },
            "colorscale": [
             [
              0,
              "#0d0887"
             ],
             [
              0.1111111111111111,
              "#46039f"
             ],
             [
              0.2222222222222222,
              "#7201a8"
             ],
             [
              0.3333333333333333,
              "#9c179e"
             ],
             [
              0.4444444444444444,
              "#bd3786"
             ],
             [
              0.5555555555555556,
              "#d8576b"
             ],
             [
              0.6666666666666666,
              "#ed7953"
             ],
             [
              0.7777777777777778,
              "#fb9f3a"
             ],
             [
              0.8888888888888888,
              "#fdca26"
             ],
             [
              1,
              "#f0f921"
             ]
            ],
            "type": "heatmapgl"
           }
          ],
          "histogram": [
           {
            "marker": {
             "pattern": {
              "fillmode": "overlay",
              "size": 10,
              "solidity": 0.2
             }
            },
            "type": "histogram"
           }
          ],
          "histogram2d": [
           {
            "colorbar": {
             "outlinewidth": 0,
             "ticks": ""
            },
            "colorscale": [
             [
              0,
              "#0d0887"
             ],
             [
              0.1111111111111111,
              "#46039f"
             ],
             [
              0.2222222222222222,
              "#7201a8"
             ],
             [
              0.3333333333333333,
              "#9c179e"
             ],
             [
              0.4444444444444444,
              "#bd3786"
             ],
             [
              0.5555555555555556,
              "#d8576b"
             ],
             [
              0.6666666666666666,
              "#ed7953"
             ],
             [
              0.7777777777777778,
              "#fb9f3a"
             ],
             [
              0.8888888888888888,
              "#fdca26"
             ],
             [
              1,
              "#f0f921"
             ]
            ],
            "type": "histogram2d"
           }
          ],
          "histogram2dcontour": [
           {
            "colorbar": {
             "outlinewidth": 0,
             "ticks": ""
            },
            "colorscale": [
             [
              0,
              "#0d0887"
             ],
             [
              0.1111111111111111,
              "#46039f"
             ],
             [
              0.2222222222222222,
              "#7201a8"
             ],
             [
              0.3333333333333333,
              "#9c179e"
             ],
             [
              0.4444444444444444,
              "#bd3786"
             ],
             [
              0.5555555555555556,
              "#d8576b"
             ],
             [
              0.6666666666666666,
              "#ed7953"
             ],
             [
              0.7777777777777778,
              "#fb9f3a"
             ],
             [
              0.8888888888888888,
              "#fdca26"
             ],
             [
              1,
              "#f0f921"
             ]
            ],
            "type": "histogram2dcontour"
           }
          ],
          "mesh3d": [
           {
            "colorbar": {
             "outlinewidth": 0,
             "ticks": ""
            },
            "type": "mesh3d"
           }
          ],
          "parcoords": [
           {
            "line": {
             "colorbar": {
              "outlinewidth": 0,
              "ticks": ""
             }
            },
            "type": "parcoords"
           }
          ],
          "pie": [
           {
            "automargin": true,
            "type": "pie"
           }
          ],
          "scatter": [
           {
            "fillpattern": {
             "fillmode": "overlay",
             "size": 10,
             "solidity": 0.2
            },
            "type": "scatter"
           }
          ],
          "scatter3d": [
           {
            "line": {
             "colorbar": {
              "outlinewidth": 0,
              "ticks": ""
             }
            },
            "marker": {
             "colorbar": {
              "outlinewidth": 0,
              "ticks": ""
             }
            },
            "type": "scatter3d"
           }
          ],
          "scattercarpet": [
           {
            "marker": {
             "colorbar": {
              "outlinewidth": 0,
              "ticks": ""
             }
            },
            "type": "scattercarpet"
           }
          ],
          "scattergeo": [
           {
            "marker": {
             "colorbar": {
              "outlinewidth": 0,
              "ticks": ""
             }
            },
            "type": "scattergeo"
           }
          ],
          "scattergl": [
           {
            "marker": {
             "colorbar": {
              "outlinewidth": 0,
              "ticks": ""
             }
            },
            "type": "scattergl"
           }
          ],
          "scattermapbox": [
           {
            "marker": {
             "colorbar": {
              "outlinewidth": 0,
              "ticks": ""
             }
            },
            "type": "scattermapbox"
           }
          ],
          "scatterpolar": [
           {
            "marker": {
             "colorbar": {
              "outlinewidth": 0,
              "ticks": ""
             }
            },
            "type": "scatterpolar"
           }
          ],
          "scatterpolargl": [
           {
            "marker": {
             "colorbar": {
              "outlinewidth": 0,
              "ticks": ""
             }
            },
            "type": "scatterpolargl"
           }
          ],
          "scatterternary": [
           {
            "marker": {
             "colorbar": {
              "outlinewidth": 0,
              "ticks": ""
             }
            },
            "type": "scatterternary"
           }
          ],
          "surface": [
           {
            "colorbar": {
             "outlinewidth": 0,
             "ticks": ""
            },
            "colorscale": [
             [
              0,
              "#0d0887"
             ],
             [
              0.1111111111111111,
              "#46039f"
             ],
             [
              0.2222222222222222,
              "#7201a8"
             ],
             [
              0.3333333333333333,
              "#9c179e"
             ],
             [
              0.4444444444444444,
              "#bd3786"
             ],
             [
              0.5555555555555556,
              "#d8576b"
             ],
             [
              0.6666666666666666,
              "#ed7953"
             ],
             [
              0.7777777777777778,
              "#fb9f3a"
             ],
             [
              0.8888888888888888,
              "#fdca26"
             ],
             [
              1,
              "#f0f921"
             ]
            ],
            "type": "surface"
           }
          ],
          "table": [
           {
            "cells": {
             "fill": {
              "color": "#EBF0F8"
             },
             "line": {
              "color": "white"
             }
            },
            "header": {
             "fill": {
              "color": "#C8D4E3"
             },
             "line": {
              "color": "white"
             }
            },
            "type": "table"
           }
          ]
         },
         "layout": {
          "annotationdefaults": {
           "arrowcolor": "#2a3f5f",
           "arrowhead": 0,
           "arrowwidth": 1
          },
          "autotypenumbers": "strict",
          "coloraxis": {
           "colorbar": {
            "outlinewidth": 0,
            "ticks": ""
           }
          },
          "colorscale": {
           "diverging": [
            [
             0,
             "#8e0152"
            ],
            [
             0.1,
             "#c51b7d"
            ],
            [
             0.2,
             "#de77ae"
            ],
            [
             0.3,
             "#f1b6da"
            ],
            [
             0.4,
             "#fde0ef"
            ],
            [
             0.5,
             "#f7f7f7"
            ],
            [
             0.6,
             "#e6f5d0"
            ],
            [
             0.7,
             "#b8e186"
            ],
            [
             0.8,
             "#7fbc41"
            ],
            [
             0.9,
             "#4d9221"
            ],
            [
             1,
             "#276419"
            ]
           ],
           "sequential": [
            [
             0,
             "#0d0887"
            ],
            [
             0.1111111111111111,
             "#46039f"
            ],
            [
             0.2222222222222222,
             "#7201a8"
            ],
            [
             0.3333333333333333,
             "#9c179e"
            ],
            [
             0.4444444444444444,
             "#bd3786"
            ],
            [
             0.5555555555555556,
             "#d8576b"
            ],
            [
             0.6666666666666666,
             "#ed7953"
            ],
            [
             0.7777777777777778,
             "#fb9f3a"
            ],
            [
             0.8888888888888888,
             "#fdca26"
            ],
            [
             1,
             "#f0f921"
            ]
           ],
           "sequentialminus": [
            [
             0,
             "#0d0887"
            ],
            [
             0.1111111111111111,
             "#46039f"
            ],
            [
             0.2222222222222222,
             "#7201a8"
            ],
            [
             0.3333333333333333,
             "#9c179e"
            ],
            [
             0.4444444444444444,
             "#bd3786"
            ],
            [
             0.5555555555555556,
             "#d8576b"
            ],
            [
             0.6666666666666666,
             "#ed7953"
            ],
            [
             0.7777777777777778,
             "#fb9f3a"
            ],
            [
             0.8888888888888888,
             "#fdca26"
            ],
            [
             1,
             "#f0f921"
            ]
           ]
          },
          "colorway": [
           "#636efa",
           "#EF553B",
           "#00cc96",
           "#ab63fa",
           "#FFA15A",
           "#19d3f3",
           "#FF6692",
           "#B6E880",
           "#FF97FF",
           "#FECB52"
          ],
          "font": {
           "color": "#2a3f5f"
          },
          "geo": {
           "bgcolor": "white",
           "lakecolor": "white",
           "landcolor": "#E5ECF6",
           "showlakes": true,
           "showland": true,
           "subunitcolor": "white"
          },
          "hoverlabel": {
           "align": "left"
          },
          "hovermode": "closest",
          "mapbox": {
           "style": "light"
          },
          "paper_bgcolor": "white",
          "plot_bgcolor": "#E5ECF6",
          "polar": {
           "angularaxis": {
            "gridcolor": "white",
            "linecolor": "white",
            "ticks": ""
           },
           "bgcolor": "#E5ECF6",
           "radialaxis": {
            "gridcolor": "white",
            "linecolor": "white",
            "ticks": ""
           }
          },
          "scene": {
           "xaxis": {
            "backgroundcolor": "#E5ECF6",
            "gridcolor": "white",
            "gridwidth": 2,
            "linecolor": "white",
            "showbackground": true,
            "ticks": "",
            "zerolinecolor": "white"
           },
           "yaxis": {
            "backgroundcolor": "#E5ECF6",
            "gridcolor": "white",
            "gridwidth": 2,
            "linecolor": "white",
            "showbackground": true,
            "ticks": "",
            "zerolinecolor": "white"
           },
           "zaxis": {
            "backgroundcolor": "#E5ECF6",
            "gridcolor": "white",
            "gridwidth": 2,
            "linecolor": "white",
            "showbackground": true,
            "ticks": "",
            "zerolinecolor": "white"
           }
          },
          "shapedefaults": {
           "line": {
            "color": "#2a3f5f"
           }
          },
          "ternary": {
           "aaxis": {
            "gridcolor": "white",
            "linecolor": "white",
            "ticks": ""
           },
           "baxis": {
            "gridcolor": "white",
            "linecolor": "white",
            "ticks": ""
           },
           "bgcolor": "#E5ECF6",
           "caxis": {
            "gridcolor": "white",
            "linecolor": "white",
            "ticks": ""
           }
          },
          "title": {
           "x": 0.05
          },
          "xaxis": {
           "automargin": true,
           "gridcolor": "white",
           "linecolor": "white",
           "ticks": "",
           "title": {
            "standoff": 15
           },
           "zerolinecolor": "white",
           "zerolinewidth": 2
          },
          "yaxis": {
           "automargin": true,
           "gridcolor": "white",
           "linecolor": "white",
           "ticks": "",
           "title": {
            "standoff": 15
           },
           "zerolinecolor": "white",
           "zerolinewidth": 2
          }
         }
        },
        "xaxis": {
         "anchor": "y",
         "domain": [
          0,
          0.235
         ],
         "title": {
          "text": "parameter"
         }
        },
        "xaxis2": {
         "anchor": "y2",
         "domain": [
          0.255,
          0.49
         ],
         "matches": "x",
         "title": {
          "text": "parameter"
         }
        },
        "xaxis3": {
         "anchor": "y3",
         "domain": [
          0.51,
          0.745
         ],
         "matches": "x",
         "title": {
          "text": "parameter"
         }
        },
        "xaxis4": {
         "anchor": "y4",
         "domain": [
          0.7649999999999999,
          0.9999999999999999
         ],
         "matches": "x",
         "title": {
          "text": "parameter"
         }
        },
        "yaxis": {
         "anchor": "x",
         "domain": [
          0,
          1
         ],
         "range": [
          0,
          0.3
         ],
         "title": {
          "text": "meanAbsAttri"
         }
        },
        "yaxis2": {
         "anchor": "x2",
         "domain": [
          0,
          1
         ],
         "matches": "y",
         "showticklabels": false
        },
        "yaxis3": {
         "anchor": "x3",
         "domain": [
          0,
          1
         ],
         "matches": "y",
         "showticklabels": false
        },
        "yaxis4": {
         "anchor": "x4",
         "domain": [
          0,
          1
         ],
         "matches": "y",
         "showticklabels": false
        }
       }
      }
     },
     "metadata": {},
     "output_type": "display_data"
    }
   ],
   "source": [
    "\n",
    "fig = px.line(output[output['attack'] == 'mix'], x=\"parameter\", y=\"meanAbsAttri\", color='explainer', facet_col='feature')\n",
    "\n",
    "fig.update_layout(yaxis_range=[0,0.3])\n",
    "fig.show()"
   ]
  },
  {
   "cell_type": "code",
   "execution_count": 41,
   "metadata": {},
   "outputs": [],
   "source": [
    "output.to_csv(PATH_data_output + 'admission_SHAP_linearSHAP.csv', index=False)"
   ]
  },
  {
   "cell_type": "markdown",
   "metadata": {},
   "source": [
    "## calculate the linearSHAP results of attack and parameter combinations\n",
    "- calculate the linearSHAP outcome table based on each attack function\n"
   ]
  }
 ],
 "metadata": {
  "kernelspec": {
   "display_name": "shuffleAttackSHAP",
   "language": "python",
   "name": "python3"
  },
  "language_info": {
   "codemirror_mode": {
    "name": "ipython",
    "version": 3
   },
   "file_extension": ".py",
   "mimetype": "text/x-python",
   "name": "python",
   "nbconvert_exporter": "python",
   "pygments_lexer": "ipython3",
   "version": "3.10.13"
  }
 },
 "nbformat": 4,
 "nbformat_minor": 2
}
